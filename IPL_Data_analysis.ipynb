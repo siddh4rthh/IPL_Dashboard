{
  "nbformat": 4,
  "nbformat_minor": 0,
  "metadata": {
    "colab": {
      "name": "DS Assignments(After MST).ipynb",
      "provenance": []
    },
    "kernelspec": {
      "name": "python3",
      "display_name": "Python 3"
    },
    "language_info": {
      "name": "python"
    }
  },
  "cells": [
    {
      "cell_type": "markdown",
      "metadata": {
        "id": "Y4SrNMlu6-eo"
      },
      "source": [
        "# Assignment -7"
      ]
    },
    {
      "cell_type": "markdown",
      "metadata": {
        "id": "J51J5zdr64eJ"
      },
      "source": [
        "Ques 1:"
      ]
    },
    {
      "cell_type": "code",
      "metadata": {
        "id": "3WRaghER5yYs"
      },
      "source": [
        "import pandas as pd\n",
        "import matplotlib.pyplot as plt"
      ],
      "execution_count": null,
      "outputs": []
    },
    {
      "cell_type": "code",
      "metadata": {
        "colab": {
          "base_uri": "https://localhost:8080/"
        },
        "id": "MAiNVk4w6Toi",
        "outputId": "ace870f3-afe3-4c03-f272-66eb2801b935"
      },
      "source": [
        "df = pd.read_csv(\"sales_data.csv\")\n",
        "df.head()"
      ],
      "execution_count": null,
      "outputs": [
        {
          "output_type": "execute_result",
          "data": {
            "text/html": [
              "<div>\n",
              "<style scoped>\n",
              "    .dataframe tbody tr th:only-of-type {\n",
              "        vertical-align: middle;\n",
              "    }\n",
              "\n",
              "    .dataframe tbody tr th {\n",
              "        vertical-align: top;\n",
              "    }\n",
              "\n",
              "    .dataframe thead th {\n",
              "        text-align: right;\n",
              "    }\n",
              "</style>\n",
              "<table border=\"1\" class=\"dataframe\">\n",
              "  <thead>\n",
              "    <tr style=\"text-align: right;\">\n",
              "      <th></th>\n",
              "      <th>month_number</th>\n",
              "      <th>facecream</th>\n",
              "      <th>facewash</th>\n",
              "      <th>toothpaste</th>\n",
              "      <th>bathingsoap</th>\n",
              "      <th>shampoo</th>\n",
              "      <th>moisturizer</th>\n",
              "      <th>total_units</th>\n",
              "      <th>total_profit</th>\n",
              "    </tr>\n",
              "  </thead>\n",
              "  <tbody>\n",
              "    <tr>\n",
              "      <th>0</th>\n",
              "      <td>1</td>\n",
              "      <td>2500</td>\n",
              "      <td>1500</td>\n",
              "      <td>5200</td>\n",
              "      <td>9200</td>\n",
              "      <td>1200</td>\n",
              "      <td>1500</td>\n",
              "      <td>21100</td>\n",
              "      <td>211000</td>\n",
              "    </tr>\n",
              "    <tr>\n",
              "      <th>1</th>\n",
              "      <td>2</td>\n",
              "      <td>2630</td>\n",
              "      <td>1200</td>\n",
              "      <td>5100</td>\n",
              "      <td>6100</td>\n",
              "      <td>2100</td>\n",
              "      <td>1200</td>\n",
              "      <td>18330</td>\n",
              "      <td>183300</td>\n",
              "    </tr>\n",
              "    <tr>\n",
              "      <th>2</th>\n",
              "      <td>3</td>\n",
              "      <td>2140</td>\n",
              "      <td>1340</td>\n",
              "      <td>4550</td>\n",
              "      <td>9550</td>\n",
              "      <td>3550</td>\n",
              "      <td>1340</td>\n",
              "      <td>22470</td>\n",
              "      <td>224700</td>\n",
              "    </tr>\n",
              "    <tr>\n",
              "      <th>3</th>\n",
              "      <td>4</td>\n",
              "      <td>3400</td>\n",
              "      <td>1130</td>\n",
              "      <td>5870</td>\n",
              "      <td>8870</td>\n",
              "      <td>1870</td>\n",
              "      <td>1130</td>\n",
              "      <td>22270</td>\n",
              "      <td>222700</td>\n",
              "    </tr>\n",
              "    <tr>\n",
              "      <th>4</th>\n",
              "      <td>5</td>\n",
              "      <td>3600</td>\n",
              "      <td>1740</td>\n",
              "      <td>4560</td>\n",
              "      <td>7760</td>\n",
              "      <td>1560</td>\n",
              "      <td>1740</td>\n",
              "      <td>20960</td>\n",
              "      <td>209600</td>\n",
              "    </tr>\n",
              "  </tbody>\n",
              "</table>\n",
              "</div>"
            ],
            "text/plain": [
              "   month_number  facecream  facewash  ...  moisturizer  total_units  total_profit\n",
              "0             1       2500      1500  ...         1500        21100        211000\n",
              "1             2       2630      1200  ...         1200        18330        183300\n",
              "2             3       2140      1340  ...         1340        22470        224700\n",
              "3             4       3400      1130  ...         1130        22270        222700\n",
              "4             5       3600      1740  ...         1740        20960        209600\n",
              "\n",
              "[5 rows x 9 columns]"
            ]
          },
          "metadata": {},
          "execution_count": 2
        }
      ]
    },
    {
      "cell_type": "code",
      "metadata": {
        "id": "DmJQSbsC6ZmA",
        "colab": {
          "base_uri": "https://localhost:8080/"
        },
        "outputId": "abd3e522-1a07-4eae-b60e-a0caa8eddf59"
      },
      "source": [
        "x = df['month_number']\n",
        "y = df['total_profit']\n",
        "plt.plot(x,y)\n",
        "plt.xlabel('Month Number')\n",
        "plt.ylabel('Total Profit')\n",
        "plt.title('Company Profit Per month')\n",
        "plt.show()"
      ],
      "execution_count": null,
      "outputs": [
        {
          "output_type": "display_data",
          "data": {
            "image/png": "[encoded data removed]",
            "text/plain": [
              "<Figure size 432x288 with 1 Axes>"
            ]
          },
          "metadata": {
            "needs_background": "light"
          }
        }
      ]
    },
    {
      "cell_type": "markdown",
      "metadata": {
        "id": "6lmJ02SP7DBv"
      },
      "source": [
        "Ques 2:"
      ]
    },
    {
      "cell_type": "code",
      "metadata": {
        "id": "ObgsmC546nLs",
        "colab": {
          "base_uri": "https://localhost:8080/"
        },
        "outputId": "2a262b61-ef17-4b0e-a556-0d237506af38"
      },
      "source": [
        "plt.plot(x,y,'r--',marker='.',markerfacecolor='green', label=\"Profit Data of last year\",linewidth=3,markersize=12)\n",
        "plt.xlabel('Month Number')\n",
        "plt.ylabel('Sold units number')\n",
        "plt.title('Company Sales data last year')\n",
        "plt.legend(loc=\"lower right\")\n",
        "plt.show()"
      ],
      "execution_count": null,
      "outputs": [
        {
          "output_type": "display_data",
          "data": {
            "image/png": "[encoded data removed]",
            "text/plain": [
              "<Figure size 432x288 with 1 Axes>"
            ]
          },
          "metadata": {
            "needs_background": "light"
          }
        }
      ]
    },
    {
      "cell_type": "markdown",
      "metadata": {
        "id": "hvJn2A26-FGh"
      },
      "source": [
        "Ques 3:"
      ]
    },
    {
      "cell_type": "code",
      "metadata": {
        "id": "NDPobWHb7YF9",
        "colab": {
          "base_uri": "https://localhost:8080/"
        },
        "outputId": "aab9d67d-daf7-4c87-bbdc-0d908aaf7b9b"
      },
      "source": [
        "df.head()"
      ],
      "execution_count": null,
      "outputs": [
        {
          "output_type": "execute_result",
          "data": {
            "text/html": [
              "<div>\n",
              "<style scoped>\n",
              "    .dataframe tbody tr th:only-of-type {\n",
              "        vertical-align: middle;\n",
              "    }\n",
              "\n",
              "    .dataframe tbody tr th {\n",
              "        vertical-align: top;\n",
              "    }\n",
              "\n",
              "    .dataframe thead th {\n",
              "        text-align: right;\n",
              "    }\n",
              "</style>\n",
              "<table border=\"1\" class=\"dataframe\">\n",
              "  <thead>\n",
              "    <tr style=\"text-align: right;\">\n",
              "      <th></th>\n",
              "      <th>month_number</th>\n",
              "      <th>facecream</th>\n",
              "      <th>facewash</th>\n",
              "      <th>toothpaste</th>\n",
              "      <th>bathingsoap</th>\n",
              "      <th>shampoo</th>\n",
              "      <th>moisturizer</th>\n",
              "      <th>total_units</th>\n",
              "      <th>total_profit</th>\n",
              "    </tr>\n",
              "  </thead>\n",
              "  <tbody>\n",
              "    <tr>\n",
              "      <th>0</th>\n",
              "      <td>1</td>\n",
              "      <td>2500</td>\n",
              "      <td>1500</td>\n",
              "      <td>5200</td>\n",
              "      <td>9200</td>\n",
              "      <td>1200</td>\n",
              "      <td>1500</td>\n",
              "      <td>21100</td>\n",
              "      <td>211000</td>\n",
              "    </tr>\n",
              "    <tr>\n",
              "      <th>1</th>\n",
              "      <td>2</td>\n",
              "      <td>2630</td>\n",
              "      <td>1200</td>\n",
              "      <td>5100</td>\n",
              "      <td>6100</td>\n",
              "      <td>2100</td>\n",
              "      <td>1200</td>\n",
              "      <td>18330</td>\n",
              "      <td>183300</td>\n",
              "    </tr>\n",
              "    <tr>\n",
              "      <th>2</th>\n",
              "      <td>3</td>\n",
              "      <td>2140</td>\n",
              "      <td>1340</td>\n",
              "      <td>4550</td>\n",
              "      <td>9550</td>\n",
              "      <td>3550</td>\n",
              "      <td>1340</td>\n",
              "      <td>22470</td>\n",
              "      <td>224700</td>\n",
              "    </tr>\n",
              "    <tr>\n",
              "      <th>3</th>\n",
              "      <td>4</td>\n",
              "      <td>3400</td>\n",
              "      <td>1130</td>\n",
              "      <td>5870</td>\n",
              "      <td>8870</td>\n",
              "      <td>1870</td>\n",
              "      <td>1130</td>\n",
              "      <td>22270</td>\n",
              "      <td>222700</td>\n",
              "    </tr>\n",
              "    <tr>\n",
              "      <th>4</th>\n",
              "      <td>5</td>\n",
              "      <td>3600</td>\n",
              "      <td>1740</td>\n",
              "      <td>4560</td>\n",
              "      <td>7760</td>\n",
              "      <td>1560</td>\n",
              "      <td>1740</td>\n",
              "      <td>20960</td>\n",
              "      <td>209600</td>\n",
              "    </tr>\n",
              "  </tbody>\n",
              "</table>\n",
              "</div>"
            ],
            "text/plain": [
              "   month_number  facecream  facewash  ...  moisturizer  total_units  total_profit\n",
              "0             1       2500      1500  ...         1500        21100        211000\n",
              "1             2       2630      1200  ...         1200        18330        183300\n",
              "2             3       2140      1340  ...         1340        22470        224700\n",
              "3             4       3400      1130  ...         1130        22270        222700\n",
              "4             5       3600      1740  ...         1740        20960        209600\n",
              "\n",
              "[5 rows x 9 columns]"
            ]
          },
          "metadata": {},
          "execution_count": 5
        }
      ]
    },
    {
      "cell_type": "code",
      "metadata": {
        "id": "SYX2nhz4-8CA"
      },
      "source": [
        "a = df['facecream']\n",
        "b = df['facewash']\n",
        "c = df['toothpaste']\n",
        "d = df['bathingsoap']\n",
        "e = df['shampoo']\n",
        "f = df['moisturizer']\n"
      ],
      "execution_count": null,
      "outputs": []
    },
    {
      "cell_type": "code",
      "metadata": {
        "id": "RMEuM0C9_nrD",
        "colab": {
          "base_uri": "https://localhost:8080/"
        },
        "outputId": "9f71f91e-34e7-4084-feb0-34fd73da2ef3"
      },
      "source": [
        "plt.figure(figsize=(8,6))\n",
        "\n",
        "plt.plot(x,a,label=\"Face Cream sales data\",marker='.', markersize=12)\n",
        "plt.plot(x,b, label=\"Face Wash sales data\",marker='.', markersize=12)\n",
        "plt.plot(x,c, label=\"Toothpaste sales data\",marker='.', markersize=12)\n",
        "plt.plot(x,d, label=\"Bathing Soap sales data\",marker='.', markersize=12)\n",
        "plt.plot(x,e, label = \"Shampoo sales data\",marker='.', markersize=12)\n",
        "plt.plot(x,f,label=\"Moisturizer sales data\",marker='.', markersize=12)\n",
        "\n",
        "plt.xlabel(\"Month Number\")\n",
        "plt.ylabel(\"Sales units in number\")\n",
        "plt.title(\"Sales data\")\n",
        "plt.legend()\n",
        "plt.show()"
      ],
      "execution_count": null,
      "outputs": [
        {
          "output_type": "display_data",
          "data": {
            "image/png": "[encoded data removed]",
            "text/plain": [
              "<Figure size 576x432 with 1 Axes>"
            ]
          },
          "metadata": {
            "needs_background": "light"
          }
        }
      ]
    },
    {
      "cell_type": "markdown",
      "metadata": {
        "id": "koRJ8hWpBSk7"
      },
      "source": [
        "Ques 4:"
      ]
    },
    {
      "cell_type": "code",
      "metadata": {
        "id": "_udXb856_2Uh",
        "colab": {
          "base_uri": "https://localhost:8080/"
        },
        "outputId": "c50af97f-5606-4d30-8609-86c3c3e6b495"
      },
      "source": [
        "plt.scatter(x,c, label=\"Toothpaste Sales data\")\n",
        "plt.grid(linestyle='--',linewidth=1)  #grids on\n",
        "plt.xlabel('Month Number')\n",
        "plt.ylabel('NUmber of units sold')\n",
        "plt.title('Toothpaste sales data')\n",
        "plt.legend()\n",
        "plt.show()"
      ],
      "execution_count": null,
      "outputs": [
        {
          "output_type": "display_data",
          "data": {
            "image/png": "[encoded data removed]",
            "text/plain": [
              "<Figure size 432x288 with 1 Axes>"
            ]
          },
          "metadata": {
            "needs_background": "light"
          }
        }
      ]
    },
    {
      "cell_type": "markdown",
      "metadata": {
        "id": "vItjZRzyCcYN"
      },
      "source": [
        "Ques 5:"
      ]
    },
    {
      "cell_type": "code",
      "metadata": {
        "id": "OotQACq7Bfe0",
        "colab": {
          "base_uri": "https://localhost:8080/"
        },
        "outputId": "f39bddee-669c-4c1e-f01e-85148d8e4a8d"
      },
      "source": [
        "plt.bar(x-0.3,a,width=0.3, label=\"Face Cream Sales Data\")\n",
        "plt.bar(x,b,width=0.3,label=\"Face Wash Sales data\")\n",
        "\n",
        "\n",
        "plt.legend(loc=\"upper left\")\n",
        "plt.grid(linestyle='--', linewidth=1)\n",
        "plt.xlabel(\"Month Number\")\n",
        "plt.ylabel(\"Sales units in number\")\n",
        "plt.title(\"Facewash and facecream sales data\")\n",
        "plt.show()"
      ],
      "execution_count": null,
      "outputs": [
        {
          "output_type": "display_data",
          "data": {
            "image/png": "[encoded data removed]",
            "text/plain": [
              "<Figure size 432x288 with 1 Axes>"
            ]
          },
          "metadata": {
            "needs_background": "light"
          }
        }
      ]
    },
    {
      "cell_type": "markdown",
      "metadata": {
        "id": "g7pkc-OcEQHx"
      },
      "source": [
        "Ques 6:"
      ]
    },
    {
      "cell_type": "code",
      "metadata": {
        "id": "pDX-IEaoEQv-",
        "colab": {
          "base_uri": "https://localhost:8080/"
        },
        "outputId": "427f3c4b-8339-4fc3-8fea-01b04aa3b327"
      },
      "source": [
        "plt.bar(x,d)\n",
        "plt.grid(linestyle=\"--\", linewidth=1)\n",
        "\n",
        "plt.ylabel(\"Sales units in number\")\n",
        "plt.xlabel(\"Month Number\")\n",
        "plt.title(\"Bathingsoap sales data\")\n",
        "plt.show()"
      ],
      "execution_count": null,
      "outputs": [
        {
          "output_type": "display_data",
          "data": {
            "image/png": "[encoded data removed]",
            "text/plain": [
              "<Figure size 432x288 with 1 Axes>"
            ]
          },
          "metadata": {
            "needs_background": "light"
          }
        }
      ]
    },
    {
      "cell_type": "markdown",
      "metadata": {
        "id": "kxD2xqaoFvr9"
      },
      "source": [
        "Ques 7:"
      ]
    },
    {
      "cell_type": "code",
      "metadata": {
        "id": "gvi9w7zjEWjz",
        "colab": {
          "base_uri": "https://localhost:8080/"
        },
        "outputId": "67eb9d92-6b90-4d77-d710-a698e4173815"
      },
      "source": [
        "df.head()"
      ],
      "execution_count": null,
      "outputs": [
        {
          "output_type": "execute_result",
          "data": {
            "text/html": [
              "<div>\n",
              "<style scoped>\n",
              "    .dataframe tbody tr th:only-of-type {\n",
              "        vertical-align: middle;\n",
              "    }\n",
              "\n",
              "    .dataframe tbody tr th {\n",
              "        vertical-align: top;\n",
              "    }\n",
              "\n",
              "    .dataframe thead th {\n",
              "        text-align: right;\n",
              "    }\n",
              "</style>\n",
              "<table border=\"1\" class=\"dataframe\">\n",
              "  <thead>\n",
              "    <tr style=\"text-align: right;\">\n",
              "      <th></th>\n",
              "      <th>month_number</th>\n",
              "      <th>facecream</th>\n",
              "      <th>facewash</th>\n",
              "      <th>toothpaste</th>\n",
              "      <th>bathingsoap</th>\n",
              "      <th>shampoo</th>\n",
              "      <th>moisturizer</th>\n",
              "      <th>total_units</th>\n",
              "      <th>total_profit</th>\n",
              "    </tr>\n",
              "  </thead>\n",
              "  <tbody>\n",
              "    <tr>\n",
              "      <th>0</th>\n",
              "      <td>1</td>\n",
              "      <td>2500</td>\n",
              "      <td>1500</td>\n",
              "      <td>5200</td>\n",
              "      <td>9200</td>\n",
              "      <td>1200</td>\n",
              "      <td>1500</td>\n",
              "      <td>21100</td>\n",
              "      <td>211000</td>\n",
              "    </tr>\n",
              "    <tr>\n",
              "      <th>1</th>\n",
              "      <td>2</td>\n",
              "      <td>2630</td>\n",
              "      <td>1200</td>\n",
              "      <td>5100</td>\n",
              "      <td>6100</td>\n",
              "      <td>2100</td>\n",
              "      <td>1200</td>\n",
              "      <td>18330</td>\n",
              "      <td>183300</td>\n",
              "    </tr>\n",
              "    <tr>\n",
              "      <th>2</th>\n",
              "      <td>3</td>\n",
              "      <td>2140</td>\n",
              "      <td>1340</td>\n",
              "      <td>4550</td>\n",
              "      <td>9550</td>\n",
              "      <td>3550</td>\n",
              "      <td>1340</td>\n",
              "      <td>22470</td>\n",
              "      <td>224700</td>\n",
              "    </tr>\n",
              "    <tr>\n",
              "      <th>3</th>\n",
              "      <td>4</td>\n",
              "      <td>3400</td>\n",
              "      <td>1130</td>\n",
              "      <td>5870</td>\n",
              "      <td>8870</td>\n",
              "      <td>1870</td>\n",
              "      <td>1130</td>\n",
              "      <td>22270</td>\n",
              "      <td>222700</td>\n",
              "    </tr>\n",
              "    <tr>\n",
              "      <th>4</th>\n",
              "      <td>5</td>\n",
              "      <td>3600</td>\n",
              "      <td>1740</td>\n",
              "      <td>4560</td>\n",
              "      <td>7760</td>\n",
              "      <td>1560</td>\n",
              "      <td>1740</td>\n",
              "      <td>20960</td>\n",
              "      <td>209600</td>\n",
              "    </tr>\n",
              "  </tbody>\n",
              "</table>\n",
              "</div>"
            ],
            "text/plain": [
              "   month_number  facecream  facewash  ...  moisturizer  total_units  total_profit\n",
              "0             1       2500      1500  ...         1500        21100        211000\n",
              "1             2       2630      1200  ...         1200        18330        183300\n",
              "2             3       2140      1340  ...         1340        22470        224700\n",
              "3             4       3400      1130  ...         1130        22270        222700\n",
              "4             5       3600      1740  ...         1740        20960        209600\n",
              "\n",
              "[5 rows x 9 columns]"
            ]
          },
          "metadata": {},
          "execution_count": 11
        }
      ]
    },
    {
      "cell_type": "code",
      "metadata": {
        "id": "x6-tTvV1F0OK",
        "colab": {
          "base_uri": "https://localhost:8080/"
        },
        "outputId": "01645706-4737-47e2-ebc8-9dd978597794"
      },
      "source": [
        "profitList = df['total_profit']\n",
        "labels = ['low','average','Good','Best']\n",
        "profit_range = [150000,175000,200000,225000,250000,300000,350000]\n",
        "\n",
        "plt.hist(profitList, profit_range,label=labels)\n",
        "plt.xlabel('Profit range in dollar')\n",
        "plt.ylabel('Actul profit in dollar')\n",
        "plt.legend(loc='upper left')\n",
        "plt.xticks(profit_range)\n",
        "plt.title('Profit Data')\n",
        "plt.show()"
      ],
      "execution_count": null,
      "outputs": [
        {
          "output_type": "display_data",
          "data": {
            "image/png": "[encoded data removed]",
            "text/plain": [
              "<Figure size 432x288 with 1 Axes>"
            ]
          },
          "metadata": {
            "needs_background": "light"
          }
        }
      ]
    },
    {
      "cell_type": "markdown",
      "metadata": {
        "id": "v81oL0G-G4Zj"
      },
      "source": [
        "Ques 8:"
      ]
    },
    {
      "cell_type": "code",
      "metadata": {
        "id": "e6AIQrA1GAK2",
        "colab": {
          "base_uri": "https://localhost:8080/"
        },
        "outputId": "1564ec8f-021b-40b3-abd5-c8fc6a2ab7df"
      },
      "source": [
        "sum = []\n",
        "for i in range(1,7):\n",
        "  sum.append(df.iloc[:,i].sum())\n",
        "\n",
        "print(sum)\n",
        "\n",
        "df1 = pd.DataFrame(sum)\n",
        "pieLabels = ['FaceCream','FaceWash','ToothPaste','Bathing Soap','Shampoo', 'Moisturizer']\n",
        "\n",
        "plt.pie(df1, labels = pieLabels,autopct = \"%1.1f%%\")\n",
        "plt.legend(loc=4)\n",
        "plt.show()"
      ],
      "execution_count": null,
      "outputs": [
        {
          "output_type": "stream",
          "name": "stdout",
          "text": [
            "[34480, 18515, 69910, 114010, 25410, 18515]\n"
          ]
        },
        {
          "output_type": "stream",
          "name": "stderr",
          "text": [
            "/usr/local/lib/python3.7/dist-packages/ipykernel_launcher.py:10: MatplotlibDeprecationWarning: Non-1D inputs to pie() are currently squeeze()d, but this behavior is deprecated since 3.1 and will be removed in 3.3; pass a 1D array instead.\n",
            "  # Remove the CWD from sys.path while we load stuff.\n"
          ]
        },
        {
          "output_type": "display_data",
          "data": {
            "image/png": "[encoded data removed]",
            "text/plain": [
              "<Figure size 432x288 with 1 Axes>"
            ]
          },
          "metadata": {}
        }
      ]
    },
    {
      "cell_type": "markdown",
      "metadata": {
        "id": "aIU2RI6KJeSf"
      },
      "source": [
        "Ques 9:"
      ]
    },
    {
      "cell_type": "code",
      "metadata": {
        "id": "NBPFhqeP_ksS",
        "colab": {
          "base_uri": "https://localhost:8080/"
        },
        "outputId": "016e271b-ccb6-4200-b7cb-44a5292bcb5a"
      },
      "source": [
        "monthList  = df ['month_number']\n",
        "bathingsoap   = df ['bathingsoap']\n",
        "faceWashSalesData   = df ['facewash']\n",
        "\n",
        "f, axarr = plt.subplots(2, sharex=True)\n",
        "axarr[0].plot(monthList, bathingsoap, label = 'Bathingsoap Sales Data', color='k', marker='o', linewidth=3)\n",
        "axarr[0].set_title('Sales data of  a Bathingsoap')\n",
        "axarr[1].plot(monthList, faceWashSalesData, label = 'Face Wash Sales Data', color='r', marker='o', linewidth=3)\n",
        "axarr[1].set_title('Sales data of  a facewash')\n",
        "\n",
        "plt.xticks(monthList)\n",
        "plt.xlabel('Month Number')\n",
        "plt.ylabel('Sales units in number')\n",
        "plt.show()"
      ],
      "execution_count": null,
      "outputs": [
        {
          "output_type": "display_data",
          "data": {
            "image/png": "[encoded data removed]",
            "text/plain": [
              "<Figure size 432x288 with 2 Axes>"
            ]
          },
          "metadata": {
            "needs_background": "light"
          }
        }
      ]
    },
    {
      "cell_type": "markdown",
      "metadata": {
        "id": "1IWWp_-TTS1G"
      },
      "source": [
        "Ques 10:"
      ]
    },
    {
      "cell_type": "code",
      "metadata": {
        "id": "zNMyxv_7J6Vu",
        "colab": {
          "base_uri": "https://localhost:8080/"
        },
        "outputId": "71e8c503-d04c-4fc6-9949-d3191b6528bd"
      },
      "source": [
        "df.head()"
      ],
      "execution_count": null,
      "outputs": [
        {
          "output_type": "execute_result",
          "data": {
            "text/html": [
              "<div>\n",
              "<style scoped>\n",
              "    .dataframe tbody tr th:only-of-type {\n",
              "        vertical-align: middle;\n",
              "    }\n",
              "\n",
              "    .dataframe tbody tr th {\n",
              "        vertical-align: top;\n",
              "    }\n",
              "\n",
              "    .dataframe thead th {\n",
              "        text-align: right;\n",
              "    }\n",
              "</style>\n",
              "<table border=\"1\" class=\"dataframe\">\n",
              "  <thead>\n",
              "    <tr style=\"text-align: right;\">\n",
              "      <th></th>\n",
              "      <th>month_number</th>\n",
              "      <th>facecream</th>\n",
              "      <th>facewash</th>\n",
              "      <th>toothpaste</th>\n",
              "      <th>bathingsoap</th>\n",
              "      <th>shampoo</th>\n",
              "      <th>moisturizer</th>\n",
              "      <th>total_units</th>\n",
              "      <th>total_profit</th>\n",
              "    </tr>\n",
              "  </thead>\n",
              "  <tbody>\n",
              "    <tr>\n",
              "      <th>0</th>\n",
              "      <td>1</td>\n",
              "      <td>2500</td>\n",
              "      <td>1500</td>\n",
              "      <td>5200</td>\n",
              "      <td>9200</td>\n",
              "      <td>1200</td>\n",
              "      <td>1500</td>\n",
              "      <td>21100</td>\n",
              "      <td>211000</td>\n",
              "    </tr>\n",
              "    <tr>\n",
              "      <th>1</th>\n",
              "      <td>2</td>\n",
              "      <td>2630</td>\n",
              "      <td>1200</td>\n",
              "      <td>5100</td>\n",
              "      <td>6100</td>\n",
              "      <td>2100</td>\n",
              "      <td>1200</td>\n",
              "      <td>18330</td>\n",
              "      <td>183300</td>\n",
              "    </tr>\n",
              "    <tr>\n",
              "      <th>2</th>\n",
              "      <td>3</td>\n",
              "      <td>2140</td>\n",
              "      <td>1340</td>\n",
              "      <td>4550</td>\n",
              "      <td>9550</td>\n",
              "      <td>3550</td>\n",
              "      <td>1340</td>\n",
              "      <td>22470</td>\n",
              "      <td>224700</td>\n",
              "    </tr>\n",
              "    <tr>\n",
              "      <th>3</th>\n",
              "      <td>4</td>\n",
              "      <td>3400</td>\n",
              "      <td>1130</td>\n",
              "      <td>5870</td>\n",
              "      <td>8870</td>\n",
              "      <td>1870</td>\n",
              "      <td>1130</td>\n",
              "      <td>22270</td>\n",
              "      <td>222700</td>\n",
              "    </tr>\n",
              "    <tr>\n",
              "      <th>4</th>\n",
              "      <td>5</td>\n",
              "      <td>3600</td>\n",
              "      <td>1740</td>\n",
              "      <td>4560</td>\n",
              "      <td>7760</td>\n",
              "      <td>1560</td>\n",
              "      <td>1740</td>\n",
              "      <td>20960</td>\n",
              "      <td>209600</td>\n",
              "    </tr>\n",
              "  </tbody>\n",
              "</table>\n",
              "</div>"
            ],
            "text/plain": [
              "   month_number  facecream  facewash  ...  moisturizer  total_units  total_profit\n",
              "0             1       2500      1500  ...         1500        21100        211000\n",
              "1             2       2630      1200  ...         1200        18330        183300\n",
              "2             3       2140      1340  ...         1340        22470        224700\n",
              "3             4       3400      1130  ...         1130        22270        222700\n",
              "4             5       3600      1740  ...         1740        20960        209600\n",
              "\n",
              "[5 rows x 9 columns]"
            ]
          },
          "metadata": {},
          "execution_count": 15
        }
      ]
    },
    {
      "cell_type": "code",
      "metadata": {
        "id": "ai76AsAoT4Bz",
        "colab": {
          "base_uri": "https://localhost:8080/"
        },
        "outputId": "72d51e84-e241-4979-8f16-30d596a29faa"
      },
      "source": [
        "a = df['facecream']\n",
        "b = df['facewash']\n",
        "c = df['toothpaste']\n",
        "d = df['bathingsoap']\n",
        "e = df['shampoo']\n",
        "f = df['moisturizer']\n",
        "\n",
        "x = df['month_number']\n",
        "\n",
        "\n",
        "plt.stackplot(x,a,b,c,d,e,f, labels=['Face Cream', 'Face Wash', 'Tooth paste', 'Bathing soap', 'Shampoo', 'Mositurizer'], colors=['m','c','r','k','g','y'])\n",
        "# plt.stackplot(x,b)\n",
        "# plt.stackplot(x,c)\n",
        "# plt.stackplot(x,d)\n",
        "# plt.stackplot(x,e)\n",
        "# plt.stackplot(x,f)\n",
        "plt.legend(loc=\"upper left\")\n",
        "plt.xlabel(\"Month Number\")\n",
        "plt.ylabel(\"Sales units in Number\")\n",
        "plt.title(\"All product sales data using stack plot\")\n",
        "plt.show()"
      ],
      "execution_count": null,
      "outputs": [
        {
          "output_type": "display_data",
          "data": {
            "image/png": "[encoded data removed]",
            "text/plain": [
              "<Figure size 432x288 with 1 Axes>"
            ]
          },
          "metadata": {
            "needs_background": "light"
          }
        }
      ]
    },
    {
      "cell_type": "markdown",
      "metadata": {
        "id": "DPhMaZB62yqY"
      },
      "source": [
        "# Assignment -8"
      ]
    },
    {
      "cell_type": "markdown",
      "metadata": {
        "id": "hAgyQdoH8P0S"
      },
      "source": [
        "Program 1: Develop a Python program to extract the features of a protein sequence file (download\n",
        "from LMS)."
      ]
    },
    {
      "cell_type": "code",
      "metadata": {
        "id": "g8KrDccP21OY"
      },
      "source": [
        "import pandas as pd\n",
        "import matplotlib.pyplot as plt"
      ],
      "execution_count": null,
      "outputs": []
    },
    {
      "cell_type": "code",
      "metadata": {
        "colab": {
          "base_uri": "https://localhost:8080/",
          "height": 206
        },
        "id": "5Mb3brXs27_-",
        "outputId": "c15ff6f1-f4e8-41f5-9af3-5383d52d880f"
      },
      "source": [
        "df = pd.read_csv(\"proteinSequenceFile1.csv\")\n",
        "df.head()"
      ],
      "execution_count": null,
      "outputs": [
        {
          "output_type": "execute_result",
          "data": {
            "text/html": [
              "<div>\n",
              "<style scoped>\n",
              "    .dataframe tbody tr th:only-of-type {\n",
              "        vertical-align: middle;\n",
              "    }\n",
              "\n",
              "    .dataframe tbody tr th {\n",
              "        vertical-align: top;\n",
              "    }\n",
              "\n",
              "    .dataframe thead th {\n",
              "        text-align: right;\n",
              "    }\n",
              "</style>\n",
              "<table border=\"1\" class=\"dataframe\">\n",
              "  <thead>\n",
              "    <tr style=\"text-align: right;\">\n",
              "      <th></th>\n",
              "      <th>Sequence</th>\n",
              "      <th>Class</th>\n",
              "    </tr>\n",
              "  </thead>\n",
              "  <tbody>\n",
              "    <tr>\n",
              "      <th>0</th>\n",
              "      <td>KGTFEKATSEAYAYADTLKKDNGEY</td>\n",
              "      <td>+</td>\n",
              "    </tr>\n",
              "    <tr>\n",
              "      <th>1</th>\n",
              "      <td>VHHPKLVFFAEDVGS</td>\n",
              "      <td>+</td>\n",
              "    </tr>\n",
              "    <tr>\n",
              "      <th>2</th>\n",
              "      <td>GYANNFLFKQG</td>\n",
              "      <td>+</td>\n",
              "    </tr>\n",
              "    <tr>\n",
              "      <th>3</th>\n",
              "      <td>STVQIE</td>\n",
              "      <td>-</td>\n",
              "    </tr>\n",
              "    <tr>\n",
              "      <th>4</th>\n",
              "      <td>NGERIE</td>\n",
              "      <td>-</td>\n",
              "    </tr>\n",
              "  </tbody>\n",
              "</table>\n",
              "</div>"
            ],
            "text/plain": [
              "                    Sequence Class\n",
              "0  KGTFEKATSEAYAYADTLKKDNGEY     +\n",
              "1            VHHPKLVFFAEDVGS     +\n",
              "2                GYANNFLFKQG     +\n",
              "3                     STVQIE     -\n",
              "4                     NGERIE     -"
            ]
          },
          "metadata": {},
          "execution_count": 18
        }
      ]
    },
    {
      "cell_type": "code",
      "metadata": {
        "colab": {
          "base_uri": "https://localhost:8080/",
          "height": 206
        },
        "id": "i3mf0vH0K2QF",
        "outputId": "872a992f-2bee-44be-d2a8-f8dcf34b84d8"
      },
      "source": [
        "new_df = pd.DataFrame()\n",
        "\n",
        "import string\n",
        "for i in range(len(df)):\n",
        "  dic = {}\n",
        "  for j in string.ascii_letters:\n",
        "    dic[j.upper()] = df['Sequence'][i].count(j.upper())\n",
        "  dic['Class'] = df['Class'][i]\n",
        "  new_df=new_df.append(dic,ignore_index=True)\n",
        "\n",
        "new_df['Class'] = new_df['Class'].replace('+','1')\n",
        "new_df['Class'] = new_df['Class'].replace('-','0')\n",
        "x = new_df['Class']\n",
        "y = new_df.drop('Class',axis=1)\n",
        "\n",
        "new_df = pd.concat([y,x], axis=1)\n",
        "new_df.head()"
      ],
      "execution_count": null,
      "outputs": [
        {
          "output_type": "execute_result",
          "data": {
            "text/html": [
              "<div>\n",
              "<style scoped>\n",
              "    .dataframe tbody tr th:only-of-type {\n",
              "        vertical-align: middle;\n",
              "    }\n",
              "\n",
              "    .dataframe tbody tr th {\n",
              "        vertical-align: top;\n",
              "    }\n",
              "\n",
              "    .dataframe thead th {\n",
              "        text-align: right;\n",
              "    }\n",
              "</style>\n",
              "<table border=\"1\" class=\"dataframe\">\n",
              "  <thead>\n",
              "    <tr style=\"text-align: right;\">\n",
              "      <th></th>\n",
              "      <th>A</th>\n",
              "      <th>B</th>\n",
              "      <th>C</th>\n",
              "      <th>D</th>\n",
              "      <th>E</th>\n",
              "      <th>F</th>\n",
              "      <th>G</th>\n",
              "      <th>H</th>\n",
              "      <th>I</th>\n",
              "      <th>J</th>\n",
              "      <th>K</th>\n",
              "      <th>L</th>\n",
              "      <th>M</th>\n",
              "      <th>N</th>\n",
              "      <th>O</th>\n",
              "      <th>P</th>\n",
              "      <th>Q</th>\n",
              "      <th>R</th>\n",
              "      <th>S</th>\n",
              "      <th>T</th>\n",
              "      <th>U</th>\n",
              "      <th>V</th>\n",
              "      <th>W</th>\n",
              "      <th>X</th>\n",
              "      <th>Y</th>\n",
              "      <th>Z</th>\n",
              "      <th>Class</th>\n",
              "    </tr>\n",
              "  </thead>\n",
              "  <tbody>\n",
              "    <tr>\n",
              "      <th>0</th>\n",
              "      <td>4.0</td>\n",
              "      <td>0.0</td>\n",
              "      <td>0.0</td>\n",
              "      <td>2.0</td>\n",
              "      <td>3.0</td>\n",
              "      <td>1.0</td>\n",
              "      <td>2.0</td>\n",
              "      <td>0.0</td>\n",
              "      <td>0.0</td>\n",
              "      <td>0.0</td>\n",
              "      <td>4.0</td>\n",
              "      <td>1.0</td>\n",
              "      <td>0.0</td>\n",
              "      <td>1.0</td>\n",
              "      <td>0.0</td>\n",
              "      <td>0.0</td>\n",
              "      <td>0.0</td>\n",
              "      <td>0.0</td>\n",
              "      <td>1.0</td>\n",
              "      <td>3.0</td>\n",
              "      <td>0.0</td>\n",
              "      <td>0.0</td>\n",
              "      <td>0.0</td>\n",
              "      <td>0.0</td>\n",
              "      <td>3.0</td>\n",
              "      <td>0.0</td>\n",
              "      <td>1</td>\n",
              "    </tr>\n",
              "    <tr>\n",
              "      <th>1</th>\n",
              "      <td>1.0</td>\n",
              "      <td>0.0</td>\n",
              "      <td>0.0</td>\n",
              "      <td>1.0</td>\n",
              "      <td>1.0</td>\n",
              "      <td>2.0</td>\n",
              "      <td>1.0</td>\n",
              "      <td>2.0</td>\n",
              "      <td>0.0</td>\n",
              "      <td>0.0</td>\n",
              "      <td>1.0</td>\n",
              "      <td>1.0</td>\n",
              "      <td>0.0</td>\n",
              "      <td>0.0</td>\n",
              "      <td>0.0</td>\n",
              "      <td>1.0</td>\n",
              "      <td>0.0</td>\n",
              "      <td>0.0</td>\n",
              "      <td>1.0</td>\n",
              "      <td>0.0</td>\n",
              "      <td>0.0</td>\n",
              "      <td>3.0</td>\n",
              "      <td>0.0</td>\n",
              "      <td>0.0</td>\n",
              "      <td>0.0</td>\n",
              "      <td>0.0</td>\n",
              "      <td>1</td>\n",
              "    </tr>\n",
              "    <tr>\n",
              "      <th>2</th>\n",
              "      <td>1.0</td>\n",
              "      <td>0.0</td>\n",
              "      <td>0.0</td>\n",
              "      <td>0.0</td>\n",
              "      <td>0.0</td>\n",
              "      <td>2.0</td>\n",
              "      <td>2.0</td>\n",
              "      <td>0.0</td>\n",
              "      <td>0.0</td>\n",
              "      <td>0.0</td>\n",
              "      <td>1.0</td>\n",
              "      <td>1.0</td>\n",
              "      <td>0.0</td>\n",
              "      <td>2.0</td>\n",
              "      <td>0.0</td>\n",
              "      <td>0.0</td>\n",
              "      <td>1.0</td>\n",
              "      <td>0.0</td>\n",
              "      <td>0.0</td>\n",
              "      <td>0.0</td>\n",
              "      <td>0.0</td>\n",
              "      <td>0.0</td>\n",
              "      <td>0.0</td>\n",
              "      <td>0.0</td>\n",
              "      <td>1.0</td>\n",
              "      <td>0.0</td>\n",
              "      <td>1</td>\n",
              "    </tr>\n",
              "    <tr>\n",
              "      <th>3</th>\n",
              "      <td>0.0</td>\n",
              "      <td>0.0</td>\n",
              "      <td>0.0</td>\n",
              "      <td>0.0</td>\n",
              "      <td>1.0</td>\n",
              "      <td>0.0</td>\n",
              "      <td>0.0</td>\n",
              "      <td>0.0</td>\n",
              "      <td>1.0</td>\n",
              "      <td>0.0</td>\n",
              "      <td>0.0</td>\n",
              "      <td>0.0</td>\n",
              "      <td>0.0</td>\n",
              "      <td>0.0</td>\n",
              "      <td>0.0</td>\n",
              "      <td>0.0</td>\n",
              "      <td>1.0</td>\n",
              "      <td>0.0</td>\n",
              "      <td>1.0</td>\n",
              "      <td>1.0</td>\n",
              "      <td>0.0</td>\n",
              "      <td>1.0</td>\n",
              "      <td>0.0</td>\n",
              "      <td>0.0</td>\n",
              "      <td>0.0</td>\n",
              "      <td>0.0</td>\n",
              "      <td>0</td>\n",
              "    </tr>\n",
              "    <tr>\n",
              "      <th>4</th>\n",
              "      <td>0.0</td>\n",
              "      <td>0.0</td>\n",
              "      <td>0.0</td>\n",
              "      <td>0.0</td>\n",
              "      <td>2.0</td>\n",
              "      <td>0.0</td>\n",
              "      <td>1.0</td>\n",
              "      <td>0.0</td>\n",
              "      <td>1.0</td>\n",
              "      <td>0.0</td>\n",
              "      <td>0.0</td>\n",
              "      <td>0.0</td>\n",
              "      <td>0.0</td>\n",
              "      <td>1.0</td>\n",
              "      <td>0.0</td>\n",
              "      <td>0.0</td>\n",
              "      <td>0.0</td>\n",
              "      <td>1.0</td>\n",
              "      <td>0.0</td>\n",
              "      <td>0.0</td>\n",
              "      <td>0.0</td>\n",
              "      <td>0.0</td>\n",
              "      <td>0.0</td>\n",
              "      <td>0.0</td>\n",
              "      <td>0.0</td>\n",
              "      <td>0.0</td>\n",
              "      <td>0</td>\n",
              "    </tr>\n",
              "  </tbody>\n",
              "</table>\n",
              "</div>"
            ],
            "text/plain": [
              "     A    B    C    D    E    F    G  ...    U    V    W    X    Y    Z  Class\n",
              "0  4.0  0.0  0.0  2.0  3.0  1.0  2.0  ...  0.0  0.0  0.0  0.0  3.0  0.0      1\n",
              "1  1.0  0.0  0.0  1.0  1.0  2.0  1.0  ...  0.0  3.0  0.0  0.0  0.0  0.0      1\n",
              "2  1.0  0.0  0.0  0.0  0.0  2.0  2.0  ...  0.0  0.0  0.0  0.0  1.0  0.0      1\n",
              "3  0.0  0.0  0.0  0.0  1.0  0.0  0.0  ...  0.0  1.0  0.0  0.0  0.0  0.0      0\n",
              "4  0.0  0.0  0.0  0.0  2.0  0.0  1.0  ...  0.0  0.0  0.0  0.0  0.0  0.0      0\n",
              "\n",
              "[5 rows x 27 columns]"
            ]
          },
          "metadata": {},
          "execution_count": 19
        }
      ]
    },
    {
      "cell_type": "code",
      "metadata": {
        "id": "hlh-s1YvLZZS"
      },
      "source": [
        "new_df.to_csv(\"result-101903328.csv\")"
      ],
      "execution_count": null,
      "outputs": []
    },
    {
      "cell_type": "code",
      "metadata": {
        "colab": {
          "base_uri": "https://localhost:8080/",
          "height": 206
        },
        "id": "450f4_QQzGKA",
        "outputId": "991f2198-2c1f-4a62-c3d3-d5e9c74ede8c"
      },
      "source": [
        "log_df = pd.DataFrame()\n",
        "for i in range(len(df)):\n",
        "  dic = {}\n",
        "  if(not(df['Sequence'][i].isalpha()) or (df['Class'][i]!='+' and df['Class'][i]!='-')):\n",
        "    dic['Class'] = df['Class'][i]\n",
        "    dic['Sequence'] = df['Sequence'][i]\n",
        "    dic['Filename'] = 'proteinSequence1.csv'\n",
        "    log_df=log_df.append(dic,ignore_index=True)\n",
        "\n",
        "log_df.head()\n"
      ],
      "execution_count": null,
      "outputs": [
        {
          "output_type": "execute_result",
          "data": {
            "text/html": [
              "<div>\n",
              "<style scoped>\n",
              "    .dataframe tbody tr th:only-of-type {\n",
              "        vertical-align: middle;\n",
              "    }\n",
              "\n",
              "    .dataframe tbody tr th {\n",
              "        vertical-align: top;\n",
              "    }\n",
              "\n",
              "    .dataframe thead th {\n",
              "        text-align: right;\n",
              "    }\n",
              "</style>\n",
              "<table border=\"1\" class=\"dataframe\">\n",
              "  <thead>\n",
              "    <tr style=\"text-align: right;\">\n",
              "      <th></th>\n",
              "      <th>Class</th>\n",
              "      <th>Filename</th>\n",
              "      <th>Sequence</th>\n",
              "    </tr>\n",
              "  </thead>\n",
              "  <tbody>\n",
              "    <tr>\n",
              "      <th>0</th>\n",
              "      <td>-</td>\n",
              "      <td>proteinSequence1.csv</td>\n",
              "      <td>PGGGKV3KPV</td>\n",
              "    </tr>\n",
              "    <tr>\n",
              "      <th>1</th>\n",
              "      <td>NaN</td>\n",
              "      <td>proteinSequence1.csv</td>\n",
              "      <td>NLKHQPGGGKVQIVYKPVDLSKVTSKCGSLGNIHHKPGGGQVE</td>\n",
              "    </tr>\n",
              "    <tr>\n",
              "      <th>2</th>\n",
              "      <td>-</td>\n",
              "      <td>proteinSequence1.csv</td>\n",
              "      <td>PG33GKVQIVEKPV</td>\n",
              "    </tr>\n",
              "    <tr>\n",
              "      <th>3</th>\n",
              "      <td>NaN</td>\n",
              "      <td>proteinSequence1.csv</td>\n",
              "      <td>KDRVQSKIGSLDNITHVPGGGN</td>\n",
              "    </tr>\n",
              "    <tr>\n",
              "      <th>4</th>\n",
              "      <td>NaN</td>\n",
              "      <td>proteinSequence1.csv</td>\n",
              "      <td>QTAPVPMPDLKNVKSKIGSTE</td>\n",
              "    </tr>\n",
              "  </tbody>\n",
              "</table>\n",
              "</div>"
            ],
            "text/plain": [
              "  Class              Filename                                     Sequence\n",
              "0     -  proteinSequence1.csv                                   PGGGKV3KPV\n",
              "1   NaN  proteinSequence1.csv  NLKHQPGGGKVQIVYKPVDLSKVTSKCGSLGNIHHKPGGGQVE\n",
              "2     -  proteinSequence1.csv                               PG33GKVQIVEKPV\n",
              "3   NaN  proteinSequence1.csv                       KDRVQSKIGSLDNITHVPGGGN\n",
              "4   NaN  proteinSequence1.csv                        QTAPVPMPDLKNVKSKIGSTE"
            ]
          },
          "metadata": {},
          "execution_count": 21
        }
      ]
    },
    {
      "cell_type": "code",
      "metadata": {
        "id": "qKlKlJNX8DXq"
      },
      "source": [
        "log_df.to_csv(\"log-101903328.csv\")"
      ],
      "execution_count": null,
      "outputs": []
    },
    {
      "cell_type": "markdown",
      "metadata": {
        "id": "LDypGesu8Scx"
      },
      "source": [
        "Program 2: Write a program to implement TOPSIS (Download topsis.csv from LMS)"
      ]
    },
    {
      "cell_type": "code",
      "metadata": {
        "colab": {
          "base_uri": "https://localhost:8080/",
          "height": 206
        },
        "id": "pTaaQ8Fy8UdJ",
        "outputId": "db31a34f-5686-48aa-c054-1a3659e5b7ea"
      },
      "source": [
        "topsis_df = pd.read_csv(\"topsis.csv\")\n",
        "topsis_df.head()"
      ],
      "execution_count": null,
      "outputs": [
        {
          "output_type": "execute_result",
          "data": {
            "text/html": [
              "<div>\n",
              "<style scoped>\n",
              "    .dataframe tbody tr th:only-of-type {\n",
              "        vertical-align: middle;\n",
              "    }\n",
              "\n",
              "    .dataframe tbody tr th {\n",
              "        vertical-align: top;\n",
              "    }\n",
              "\n",
              "    .dataframe thead th {\n",
              "        text-align: right;\n",
              "    }\n",
              "</style>\n",
              "<table border=\"1\" class=\"dataframe\">\n",
              "  <thead>\n",
              "    <tr style=\"text-align: right;\">\n",
              "      <th></th>\n",
              "      <th>Model</th>\n",
              "      <th>Corr</th>\n",
              "      <th>Rseq</th>\n",
              "      <th>RMSE</th>\n",
              "      <th>Accuracy</th>\n",
              "    </tr>\n",
              "  </thead>\n",
              "  <tbody>\n",
              "    <tr>\n",
              "      <th>0</th>\n",
              "      <td>M1</td>\n",
              "      <td>0.79</td>\n",
              "      <td>0.62</td>\n",
              "      <td>1.25</td>\n",
              "      <td>60.89</td>\n",
              "    </tr>\n",
              "    <tr>\n",
              "      <th>1</th>\n",
              "      <td>M2</td>\n",
              "      <td>0.66</td>\n",
              "      <td>0.44</td>\n",
              "      <td>2.89</td>\n",
              "      <td>63.07</td>\n",
              "    </tr>\n",
              "    <tr>\n",
              "      <th>2</th>\n",
              "      <td>M3</td>\n",
              "      <td>0.56</td>\n",
              "      <td>0.31</td>\n",
              "      <td>1.57</td>\n",
              "      <td>62.87</td>\n",
              "    </tr>\n",
              "    <tr>\n",
              "      <th>3</th>\n",
              "      <td>M4</td>\n",
              "      <td>0.82</td>\n",
              "      <td>0.67</td>\n",
              "      <td>2.68</td>\n",
              "      <td>70.19</td>\n",
              "    </tr>\n",
              "    <tr>\n",
              "      <th>4</th>\n",
              "      <td>M5</td>\n",
              "      <td>0.75</td>\n",
              "      <td>0.56</td>\n",
              "      <td>1.30</td>\n",
              "      <td>80.39</td>\n",
              "    </tr>\n",
              "  </tbody>\n",
              "</table>\n",
              "</div>"
            ],
            "text/plain": [
              "  Model  Corr  Rseq  RMSE  Accuracy\n",
              "0    M1  0.79  0.62  1.25     60.89\n",
              "1    M2  0.66  0.44  2.89     63.07\n",
              "2    M3  0.56  0.31  1.57     62.87\n",
              "3    M4  0.82  0.67  2.68     70.19\n",
              "4    M5  0.75  0.56  1.30     80.39"
            ]
          },
          "metadata": {},
          "execution_count": 23
        }
      ]
    },
    {
      "cell_type": "code",
      "metadata": {
        "id": "5l3vNnJi8spq",
        "colab": {
          "base_uri": "https://localhost:8080/",
          "height": 206
        },
        "outputId": "ad59164d-d1a6-47ce-86ba-0ad5caff2455"
      },
      "source": [
        "df = topsis_df.drop('Model',axis=1)\n",
        "df"
      ],
      "execution_count": null,
      "outputs": [
        {
          "output_type": "execute_result",
          "data": {
            "text/html": [
              "<div>\n",
              "<style scoped>\n",
              "    .dataframe tbody tr th:only-of-type {\n",
              "        vertical-align: middle;\n",
              "    }\n",
              "\n",
              "    .dataframe tbody tr th {\n",
              "        vertical-align: top;\n",
              "    }\n",
              "\n",
              "    .dataframe thead th {\n",
              "        text-align: right;\n",
              "    }\n",
              "</style>\n",
              "<table border=\"1\" class=\"dataframe\">\n",
              "  <thead>\n",
              "    <tr style=\"text-align: right;\">\n",
              "      <th></th>\n",
              "      <th>Corr</th>\n",
              "      <th>Rseq</th>\n",
              "      <th>RMSE</th>\n",
              "      <th>Accuracy</th>\n",
              "    </tr>\n",
              "  </thead>\n",
              "  <tbody>\n",
              "    <tr>\n",
              "      <th>0</th>\n",
              "      <td>0.79</td>\n",
              "      <td>0.62</td>\n",
              "      <td>1.25</td>\n",
              "      <td>60.89</td>\n",
              "    </tr>\n",
              "    <tr>\n",
              "      <th>1</th>\n",
              "      <td>0.66</td>\n",
              "      <td>0.44</td>\n",
              "      <td>2.89</td>\n",
              "      <td>63.07</td>\n",
              "    </tr>\n",
              "    <tr>\n",
              "      <th>2</th>\n",
              "      <td>0.56</td>\n",
              "      <td>0.31</td>\n",
              "      <td>1.57</td>\n",
              "      <td>62.87</td>\n",
              "    </tr>\n",
              "    <tr>\n",
              "      <th>3</th>\n",
              "      <td>0.82</td>\n",
              "      <td>0.67</td>\n",
              "      <td>2.68</td>\n",
              "      <td>70.19</td>\n",
              "    </tr>\n",
              "    <tr>\n",
              "      <th>4</th>\n",
              "      <td>0.75</td>\n",
              "      <td>0.56</td>\n",
              "      <td>1.30</td>\n",
              "      <td>80.39</td>\n",
              "    </tr>\n",
              "  </tbody>\n",
              "</table>\n",
              "</div>"
            ],
            "text/plain": [
              "   Corr  Rseq  RMSE  Accuracy\n",
              "0  0.79  0.62  1.25     60.89\n",
              "1  0.66  0.44  2.89     63.07\n",
              "2  0.56  0.31  1.57     62.87\n",
              "3  0.82  0.67  2.68     70.19\n",
              "4  0.75  0.56  1.30     80.39"
            ]
          },
          "metadata": {},
          "execution_count": 24
        }
      ]
    },
    {
      "cell_type": "code",
      "metadata": {
        "colab": {
          "base_uri": "https://localhost:8080/",
          "height": 206
        },
        "id": "cgXLyDwXY-fI",
        "outputId": "ef821e15-9ef3-4ce3-90fc-2a7aaed32c50"
      },
      "source": [
        "#Step 1: Calculation of Root Sum squares\n",
        "rootSumSquares = []\n",
        "for i in df.columns:\n",
        "  sum = 0\n",
        "  for j in df[i]:\n",
        "    sum += (j**2)\n",
        "  sum = sum**0.5\n",
        "  rootSumSquares.append(sum)\n",
        "\n",
        "j=0;\n",
        "for i in df.columns:\n",
        "  df[i]/=rootSumSquares[j]\n",
        "  j = j+1\n",
        "\n",
        "df"
      ],
      "execution_count": null,
      "outputs": [
        {
          "output_type": "execute_result",
          "data": {
            "text/html": [
              "<div>\n",
              "<style scoped>\n",
              "    .dataframe tbody tr th:only-of-type {\n",
              "        vertical-align: middle;\n",
              "    }\n",
              "\n",
              "    .dataframe tbody tr th {\n",
              "        vertical-align: top;\n",
              "    }\n",
              "\n",
              "    .dataframe thead th {\n",
              "        text-align: right;\n",
              "    }\n",
              "</style>\n",
              "<table border=\"1\" class=\"dataframe\">\n",
              "  <thead>\n",
              "    <tr style=\"text-align: right;\">\n",
              "      <th></th>\n",
              "      <th>Corr</th>\n",
              "      <th>Rseq</th>\n",
              "      <th>RMSE</th>\n",
              "      <th>Accuracy</th>\n",
              "    </tr>\n",
              "  </thead>\n",
              "  <tbody>\n",
              "    <tr>\n",
              "      <th>0</th>\n",
              "      <td>0.489166</td>\n",
              "      <td>0.517278</td>\n",
              "      <td>0.271151</td>\n",
              "      <td>0.401259</td>\n",
              "    </tr>\n",
              "    <tr>\n",
              "      <th>1</th>\n",
              "      <td>0.408671</td>\n",
              "      <td>0.367100</td>\n",
              "      <td>0.626901</td>\n",
              "      <td>0.415625</td>\n",
              "    </tr>\n",
              "    <tr>\n",
              "      <th>2</th>\n",
              "      <td>0.346751</td>\n",
              "      <td>0.258639</td>\n",
              "      <td>0.340566</td>\n",
              "      <td>0.414307</td>\n",
              "    </tr>\n",
              "    <tr>\n",
              "      <th>3</th>\n",
              "      <td>0.507742</td>\n",
              "      <td>0.558994</td>\n",
              "      <td>0.581348</td>\n",
              "      <td>0.462545</td>\n",
              "    </tr>\n",
              "    <tr>\n",
              "      <th>4</th>\n",
              "      <td>0.464399</td>\n",
              "      <td>0.467219</td>\n",
              "      <td>0.281997</td>\n",
              "      <td>0.529762</td>\n",
              "    </tr>\n",
              "  </tbody>\n",
              "</table>\n",
              "</div>"
            ],
            "text/plain": [
              "       Corr      Rseq      RMSE  Accuracy\n",
              "0  0.489166  0.517278  0.271151  0.401259\n",
              "1  0.408671  0.367100  0.626901  0.415625\n",
              "2  0.346751  0.258639  0.340566  0.414307\n",
              "3  0.507742  0.558994  0.581348  0.462545\n",
              "4  0.464399  0.467219  0.281997  0.529762"
            ]
          },
          "metadata": {},
          "execution_count": 25
        }
      ]
    },
    {
      "cell_type": "code",
      "metadata": {
        "colab": {
          "base_uri": "https://localhost:8080/",
          "height": 206
        },
        "id": "V5pOCCnfZc6z",
        "outputId": "77a80a72-ff70-41bb-9298-8bd99f4349c4"
      },
      "source": [
        "#Step 2:Multiplying weights to each value\n",
        "wts = [0.25]*len(df.columns)\n",
        "\n",
        "j=0\n",
        "for i in df.columns:\n",
        "  df[i] *= wts[j]\n",
        "  j = j+1\n",
        "\n",
        "df"
      ],
      "execution_count": null,
      "outputs": [
        {
          "output_type": "execute_result",
          "data": {
            "text/html": [
              "<div>\n",
              "<style scoped>\n",
              "    .dataframe tbody tr th:only-of-type {\n",
              "        vertical-align: middle;\n",
              "    }\n",
              "\n",
              "    .dataframe tbody tr th {\n",
              "        vertical-align: top;\n",
              "    }\n",
              "\n",
              "    .dataframe thead th {\n",
              "        text-align: right;\n",
              "    }\n",
              "</style>\n",
              "<table border=\"1\" class=\"dataframe\">\n",
              "  <thead>\n",
              "    <tr style=\"text-align: right;\">\n",
              "      <th></th>\n",
              "      <th>Corr</th>\n",
              "      <th>Rseq</th>\n",
              "      <th>RMSE</th>\n",
              "      <th>Accuracy</th>\n",
              "    </tr>\n",
              "  </thead>\n",
              "  <tbody>\n",
              "    <tr>\n",
              "      <th>0</th>\n",
              "      <td>0.122292</td>\n",
              "      <td>0.129319</td>\n",
              "      <td>0.067788</td>\n",
              "      <td>0.100315</td>\n",
              "    </tr>\n",
              "    <tr>\n",
              "      <th>1</th>\n",
              "      <td>0.102168</td>\n",
              "      <td>0.091775</td>\n",
              "      <td>0.156725</td>\n",
              "      <td>0.103906</td>\n",
              "    </tr>\n",
              "    <tr>\n",
              "      <th>2</th>\n",
              "      <td>0.086688</td>\n",
              "      <td>0.064660</td>\n",
              "      <td>0.085141</td>\n",
              "      <td>0.103577</td>\n",
              "    </tr>\n",
              "    <tr>\n",
              "      <th>3</th>\n",
              "      <td>0.126936</td>\n",
              "      <td>0.139748</td>\n",
              "      <td>0.145337</td>\n",
              "      <td>0.115636</td>\n",
              "    </tr>\n",
              "    <tr>\n",
              "      <th>4</th>\n",
              "      <td>0.116100</td>\n",
              "      <td>0.116805</td>\n",
              "      <td>0.070499</td>\n",
              "      <td>0.132441</td>\n",
              "    </tr>\n",
              "  </tbody>\n",
              "</table>\n",
              "</div>"
            ],
            "text/plain": [
              "       Corr      Rseq      RMSE  Accuracy\n",
              "0  0.122292  0.129319  0.067788  0.100315\n",
              "1  0.102168  0.091775  0.156725  0.103906\n",
              "2  0.086688  0.064660  0.085141  0.103577\n",
              "3  0.126936  0.139748  0.145337  0.115636\n",
              "4  0.116100  0.116805  0.070499  0.132441"
            ]
          },
          "metadata": {},
          "execution_count": 26
        }
      ]
    },
    {
      "cell_type": "code",
      "metadata": {
        "colab": {
          "base_uri": "https://localhost:8080/"
        },
        "id": "bAvs17-LcFxE",
        "outputId": "fa194b98-3442-4240-dbb0-c63e91f577ba"
      },
      "source": [
        "#Step 3: Finding out ideal best and ideal worst values\n",
        "idlBest = []\n",
        "idlWorst = []\n",
        "\n",
        "for i in df.columns:\n",
        "  idlBest.append(max(df[i]))\n",
        "  idlWorst.append(min(df[i]))\n",
        "\n",
        "print(idlBest)\n",
        "print(idlWorst)"
      ],
      "execution_count": null,
      "outputs": [
        {
          "output_type": "stream",
          "name": "stdout",
          "text": [
            "[0.1269355928643859, 0.1397484115966401, 0.1567252493900279, 0.13244057994934527]\n",
            "[0.08668772195616599, 0.06465971282829616, 0.06778773762544459, 0.10031480175538791]\n"
          ]
        }
      ]
    },
    {
      "cell_type": "code",
      "metadata": {
        "colab": {
          "base_uri": "https://localhost:8080/"
        },
        "id": "P691bB4qdN2M",
        "outputId": "ea3ce339-5594-4c1e-8300-30c3c69e6c9c"
      },
      "source": [
        "#Step 4: Finding out the euclidean distance\n",
        "eucBest = []\n",
        "eucWorst = []\n",
        "\n",
        "for i in range(len(df)):\n",
        "  temp1=0\n",
        "  temp2=0\n",
        "  for j in range(len(df.columns)):\n",
        "    temp1 += (df.iloc[i,j]-idlBest[j])**2\n",
        "    temp2 += (df.iloc[i,j]-idlWorst[j])**2\n",
        "\n",
        "  eucBest.append(temp1**0.5)\n",
        "  eucWorst.append(temp2**0.5)\n",
        "\n",
        "# for i in range(len(df)):\n",
        "#   for j in df.columns:\n",
        "#     print(j)\n",
        "#     print(df[j][i])\n",
        "\n",
        "print(eucBest)\n",
        "print(eucWorst)"
      ],
      "execution_count": null,
      "outputs": [
        {
          "output_type": "stream",
          "name": "stdout",
          "text": [
            "[0.09524850113694183, 0.06106632443232433, 0.11495898868929239, 0.020299685024035934, 0.08988191223765546]\n",
            "[0.07381405792490396, 0.09432736426365745, 0.017657581995683975, 0.11621887530363573, 0.06799685137251826]\n"
          ]
        }
      ]
    },
    {
      "cell_type": "code",
      "metadata": {
        "id": "r_q8lYDDfyEw"
      },
      "source": [
        "#Step 5: Finding out performance score\n",
        "topsis_score = []\n",
        "for i in range(len(df)):\n",
        "   topsis_score.append(eucWorst[i]/(eucBest[i]+eucWorst[i]))\n"
      ],
      "execution_count": null,
      "outputs": []
    },
    {
      "cell_type": "code",
      "metadata": {
        "colab": {
          "base_uri": "https://localhost:8080/",
          "height": 206
        },
        "id": "p4cLSDxvhOgg",
        "outputId": "07d2837d-e0ff-4b7e-ff62-656ee2bc50d0"
      },
      "source": [
        "#Step 6: Calculating the final result\n",
        "topsis_df['Topsis Score'] = topsis_score\n",
        "topsis_df['Rank'] = topsis_df['Topsis Score'].rank(ascending=False)   #Do without .rank function\n",
        "topsis_df"
      ],
      "execution_count": null,
      "outputs": [
        {
          "output_type": "execute_result",
          "data": {
            "text/html": [
              "<div>\n",
              "<style scoped>\n",
              "    .dataframe tbody tr th:only-of-type {\n",
              "        vertical-align: middle;\n",
              "    }\n",
              "\n",
              "    .dataframe tbody tr th {\n",
              "        vertical-align: top;\n",
              "    }\n",
              "\n",
              "    .dataframe thead th {\n",
              "        text-align: right;\n",
              "    }\n",
              "</style>\n",
              "<table border=\"1\" class=\"dataframe\">\n",
              "  <thead>\n",
              "    <tr style=\"text-align: right;\">\n",
              "      <th></th>\n",
              "      <th>Model</th>\n",
              "      <th>Corr</th>\n",
              "      <th>Rseq</th>\n",
              "      <th>RMSE</th>\n",
              "      <th>Accuracy</th>\n",
              "      <th>Topsis Score</th>\n",
              "      <th>Rank</th>\n",
              "    </tr>\n",
              "  </thead>\n",
              "  <tbody>\n",
              "    <tr>\n",
              "      <th>0</th>\n",
              "      <td>M1</td>\n",
              "      <td>0.79</td>\n",
              "      <td>0.62</td>\n",
              "      <td>1.25</td>\n",
              "      <td>60.89</td>\n",
              "      <td>0.436608</td>\n",
              "      <td>3.0</td>\n",
              "    </tr>\n",
              "    <tr>\n",
              "      <th>1</th>\n",
              "      <td>M2</td>\n",
              "      <td>0.66</td>\n",
              "      <td>0.44</td>\n",
              "      <td>2.89</td>\n",
              "      <td>63.07</td>\n",
              "      <td>0.607022</td>\n",
              "      <td>2.0</td>\n",
              "    </tr>\n",
              "    <tr>\n",
              "      <th>2</th>\n",
              "      <td>M3</td>\n",
              "      <td>0.56</td>\n",
              "      <td>0.31</td>\n",
              "      <td>1.57</td>\n",
              "      <td>62.87</td>\n",
              "      <td>0.133148</td>\n",
              "      <td>5.0</td>\n",
              "    </tr>\n",
              "    <tr>\n",
              "      <th>3</th>\n",
              "      <td>M4</td>\n",
              "      <td>0.82</td>\n",
              "      <td>0.67</td>\n",
              "      <td>2.68</td>\n",
              "      <td>70.19</td>\n",
              "      <td>0.851305</td>\n",
              "      <td>1.0</td>\n",
              "    </tr>\n",
              "    <tr>\n",
              "      <th>4</th>\n",
              "      <td>M5</td>\n",
              "      <td>0.75</td>\n",
              "      <td>0.56</td>\n",
              "      <td>1.30</td>\n",
              "      <td>80.39</td>\n",
              "      <td>0.430690</td>\n",
              "      <td>4.0</td>\n",
              "    </tr>\n",
              "  </tbody>\n",
              "</table>\n",
              "</div>"
            ],
            "text/plain": [
              "  Model  Corr  Rseq  RMSE  Accuracy  Topsis Score  Rank\n",
              "0    M1  0.79  0.62  1.25     60.89      0.436608   3.0\n",
              "1    M2  0.66  0.44  2.89     63.07      0.607022   2.0\n",
              "2    M3  0.56  0.31  1.57     62.87      0.133148   5.0\n",
              "3    M4  0.82  0.67  2.68     70.19      0.851305   1.0\n",
              "4    M5  0.75  0.56  1.30     80.39      0.430690   4.0"
            ]
          },
          "metadata": {},
          "execution_count": 30
        }
      ]
    },
    {
      "cell_type": "markdown",
      "metadata": {
        "id": "-eQahZRZDOTz"
      },
      "source": [
        "# Assignment -9"
      ]
    },
    {
      "cell_type": "code",
      "metadata": {
        "id": "7DcTmTgJDP9R"
      },
      "source": [
        "import networkx as nx"
      ],
      "execution_count": null,
      "outputs": []
    },
    {
      "cell_type": "code",
      "metadata": {
        "colab": {
          "base_uri": "https://localhost:8080/",
          "height": 319
        },
        "id": "3ip6E6L9DUfh",
        "outputId": "bb3da4bc-2f8f-423f-84cf-4cf503053977"
      },
      "source": [
        "G = nx.Graph()\n",
        "G.add_nodes_from([1,2,3,4,7,9])\n",
        "nx.draw(G, with_labels=True)"
      ],
      "execution_count": null,
      "outputs": [
        {
          "output_type": "display_data",
          "data": {
            "image/png": "[encoded data removed]",
            "text/plain": [
              "<Figure size 432x288 with 1 Axes>"
            ]
          },
          "metadata": {}
        }
      ]
    },
    {
      "cell_type": "code",
      "metadata": {
        "colab": {
          "base_uri": "https://localhost:8080/",
          "height": 319
        },
        "id": "cZ3lHl5HD7lY",
        "outputId": "dbcc4901-1603-4bdf-d448-820527c31e06"
      },
      "source": [
        "G.add_edges_from([(1, 2), (1, 3),(1,9),(1,7),(1,4),(2,9),(2,4)])\n",
        "nx.draw(G,with_labels=True)"
      ],
      "execution_count": null,
      "outputs": [
        {
          "output_type": "display_data",
          "data": {
            "image/png": "[encoded data removed]",
            "text/plain": [
              "<Figure size 432x288 with 1 Axes>"
            ]
          },
          "metadata": {}
        }
      ]
    },
    {
      "cell_type": "code",
      "metadata": {
        "colab": {
          "base_uri": "https://localhost:8080/",
          "height": 319
        },
        "id": "bCq8_i5MEs5H",
        "outputId": "daf1d447-b123-4b63-88eb-a4fa80cbc6e9"
      },
      "source": [
        "G.remove_edge(1,2)\n",
        "nx.draw(G,with_labels=True)"
      ],
      "execution_count": null,
      "outputs": [
        {
          "output_type": "display_data",
          "data": {
            "image/png": "[encoded data removed]",
            "text/plain": [
              "<Figure size 432x288 with 1 Axes>"
            ]
          },
          "metadata": {}
        }
      ]
    },
    {
      "cell_type": "code",
      "metadata": {
        "colab": {
          "base_uri": "https://localhost:8080/",
          "height": 248
        },
        "id": "-3UJVts2FC59",
        "outputId": "6a77e28e-289a-421d-ecde-62f9d3d9074f"
      },
      "source": [
        "import matplotlib.pyplot as plt\n",
        "\n",
        "\n",
        "SG = nx.Graph()\n",
        "SG.add_node(\"City A\")\n",
        "SG.add_node(\"City B\")\n",
        "SG.add_node(\"City C\")\n",
        "SG.add_node(\"City D\")\n",
        "\n",
        "SG.add_edge(\"City A\", \"City B\", weight = 10)\n",
        "SG.add_edge(\"City A\", \"City C\", weight = 15)\n",
        "SG.add_edge(\"City A\", \"City D\", weight = 20)\n",
        "SG.add_edge(\"City D\", \"City B\", weight = 25)\n",
        "SG.add_edge(\"City D\", \"City C\", weight = 30)\n",
        "SG.add_edge(\"City B\", \"City C\", weight = 35)\n",
        "\n",
        "SG.nodes['City A']['pos'] = (0,3)\n",
        "SG.nodes['City B']['pos'] = (-2,-0.5)\n",
        "SG.nodes['City C']['pos'] = (2,-0.5)\n",
        "SG.nodes['City D']['pos'] = (0,1)\n",
        "\n",
        "node_pos = nx.get_node_attributes(SG,'pos')\n",
        "arc_weight = nx.get_edge_attributes(SG,'weight')\n",
        "\n",
        "nx.draw_networkx(SG,node_pos, node_color='r',node_size=450)\n",
        "\n",
        "nx.draw_networkx_edges(SG,node_pos, edge_color='k')\n",
        "\n",
        "nx.draw_networkx_edge_labels(SG, node_pos,edge_labels=arc_weight)\n",
        "\n",
        "plt.axis('off')\n",
        "plt.show()"
      ],
      "execution_count": null,
      "outputs": [
        {
          "output_type": "display_data",
          "data": {
            "image/png": "[encoded data removed]",
            "text/plain": [
              "<Figure size 432x288 with 1 Axes>"
            ]
          },
          "metadata": {}
        }
      ]
    },
    {
      "cell_type": "code",
      "metadata": {
        "id": "z2zelJtOOAba",
        "colab": {
          "base_uri": "https://localhost:8080/",
          "height": 248
        },
        "outputId": "dffd7875-850f-46f1-ce44-9b48d7e5bafe"
      },
      "source": [
        "DG = nx.DiGraph()\n",
        "DG.add_edge(\"A\", \"B\", weight=4)\n",
        "DG.add_edge(\"A\", \"C\", weight=12)\n",
        "DG.add_edge(\"A\", \"D\", weight=7)\n",
        "DG.add_edge(\"B\", \"A\", weight=5)\n",
        "DG.add_edge(\"B\", \"D\", weight=18)\n",
        "DG.add_edge(\"C\", \"A\", weight=11)\n",
        "DG.add_edge(\"C\", \"D\", weight=6)\n",
        "DG.add_edge(\"D\", \"A\", weight=10)\n",
        "DG.add_edge(\"D\", \"B\", weight=2)\n",
        "DG.add_edge(\"D\", \"C\", weight=3)\n",
        "\n",
        "\n",
        "DG.nodes['A']['pos'] = (0,2)\n",
        "DG.nodes['B']['pos'] = (0,0)\n",
        "DG.nodes['C']['pos'] = (2,2)\n",
        "DG.nodes['D']['pos'] = (2,0)\n",
        "\n",
        "node_pos = nx.get_node_attributes(DG,'pos')\n",
        "arc_pos = nx.get_edge_attributes(DG,'weight')\n",
        "\n",
        "nx.draw_networkx(DG, node_pos, node_color='r', node_size=450)\n",
        "nx.draw_networkx_edges(DG, node_pos, edge_color='k')\n",
        "nx.draw_networkx_edge_labels(DG, node_pos, edge_labels=arc_pos)\n",
        "\n",
        "plt.axis('off')\n",
        "plt.show()"
      ],
      "execution_count": null,
      "outputs": [
        {
          "output_type": "display_data",
          "data": {
            "image/png": "[encoded data removed]",
            "text/plain": [
              "<Figure size 432x288 with 1 Axes>"
            ]
          },
          "metadata": {}
        }
      ]
    },
    {
      "cell_type": "code",
      "metadata": {
        "colab": {
          "base_uri": "https://localhost:8080/",
          "height": 248
        },
        "id": "5JgevZO9E2Mm",
        "outputId": "7eafbc3e-8ddf-4f8b-e82a-ab74093953ef"
      },
      "source": [
        "MG = nx.MultiGraph()\n",
        "MG.add_edge(\"A\", \"B\", weight=4)\n",
        "MG.add_edge(\"A\", \"C\", weight=12)\n",
        "MG.add_edge(\"A\", \"D\", weight=7)\n",
        "MG.add_edge(\"B\", \"A\", weight=5)\n",
        "MG.add_edge(\"B\", \"D\", weight=18)\n",
        "MG.add_edge(\"C\", \"A\", weight=11)\n",
        "MG.add_edge(\"C\", \"D\", weight=6)\n",
        "MG.add_edge(\"D\", \"A\", weight=10)\n",
        "MG.add_edge(\"D\", \"B\", weight=2)\n",
        "MG.add_edge(\"D\", \"C\", weight=3)\n",
        "\n",
        "MG.nodes['A']['pos'] = (0,2)\n",
        "MG.nodes['B']['pos'] = (0,0)\n",
        "MG.nodes['C']['pos'] = (2,2)\n",
        "MG.nodes['D']['pos'] = (2,0)\n",
        "\n",
        "node_pos = nx.get_node_attributes(MG,'pos')\n",
        "arc_pos = nx.get_edge_attributes(MG,'weight')\n",
        "\n",
        "nx.draw_networkx_nodes(MG, node_pos, node_color = 'r', node_size = 450)\n",
        "nx.draw_networkx_edges(MG, node_pos, edge_color='k')\n",
        "# nx.draw_networkx_edge_labels(MG, node_pos, edge_labels=arc_pos)\n",
        "\n",
        "ax = plt.gca()\n",
        "# for e in MG.edges:\n",
        "#     ax.annotate(\"\",\n",
        "#                 xy=pos[e[0]], xycoords='data',\n",
        "#                 xytext=pos[e[1]], textcoords='data',\n",
        "#                 arrowprops=dict(arrowstyle=\"->\", color=\"0.5\",\n",
        "#                                 shrinkA=5, shrinkB=5,\n",
        "#                                 patchA=None, patchB=None,\n",
        "#                                 connectionstyle=\"arc3,rad=rrr\".replace('rrr',str(0.3*e[2])\n",
        "#                                 ),\n",
        "#                                 ),\n",
        "#                 )\n",
        "plt.axis('off')\n",
        "plt.show()"
      ],
      "execution_count": null,
      "outputs": [
        {
          "output_type": "display_data",
          "data": {
            "image/png": "[encoded data removed]",
            "text/plain": [
              "<Figure size 432x288 with 1 Axes>"
            ]
          },
          "metadata": {}
        }
      ]
    },
    {
      "cell_type": "code",
      "metadata": {
        "colab": {
          "base_uri": "https://localhost:8080/",
          "height": 248
        },
        "id": "aKatflduA31W",
        "outputId": "8b07f51f-59f4-49cf-ab5a-04fe6b275990"
      },
      "source": [
        "h = DG.to_undirected()\n",
        "\n",
        "DG.nodes['A']['pos'] = (0,2)\n",
        "DG.nodes['B']['pos'] = (0,0)\n",
        "DG.nodes['C']['pos'] = (2,2)\n",
        "DG.nodes['D']['pos'] = (2,0)\n",
        "\n",
        "node_pos = nx.get_node_attributes(h,'pos')\n",
        "arc_pos1 = nx.get_edge_attributes(h,'weight')\n",
        "\n",
        "nx.draw_networkx(h, node_pos, node_color='g', node_size=450)\n",
        "nx.draw_networkx_edges(h, node_pos, edge_color='k')\n",
        "nx.draw_networkx_edge_labels(h, node_pos, edge_labels=arc_pos1)\n",
        "\n",
        "plt.axis('off')\n",
        "plt.show()"
      ],
      "execution_count": null,
      "outputs": [
        {
          "output_type": "display_data",
          "data": {
            "image/png": "[encoded data removed]",
            "text/plain": [
              "<Figure size 432x288 with 1 Axes>"
            ]
          },
          "metadata": {}
        }
      ]
    }
  ]
}